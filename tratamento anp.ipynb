{
 "cells": [
  {
   "cell_type": "markdown",
   "metadata": {},
   "source": [
    "# Produção dos Poços"
   ]
  },
  {
   "cell_type": "markdown",
   "metadata": {},
   "source": [
    "## Produção Anual"
   ]
  },
  {
   "cell_type": "code",
   "execution_count": 9,
   "metadata": {},
   "outputs": [
    {
     "name": "stdout",
     "output_type": "stream",
     "text": [
      "Arquivo PRODUCAO ANUAL.xlsx salvo com sucesso!\n"
     ]
    }
   ],
   "source": [
    "import pandas as pd\n",
    "import os\n",
    "\n",
    "skip = 0\n",
    "pasta = r'C:\\Users\\guilh\\OneDrive - UFRGS\\Graduação\\10-Trabalho de Conclusão do Curso\\tcc2\\Pocos\\anual'\n",
    "\n",
    "def ler_arquivos_xlsx(pasta):\n",
    "    arquivos_xlsx = [arq for arq in os.listdir(pasta) if arq.endswith('.xlsx')]\n",
    "    dfs = []\n",
    "    for arq in arquivos_xlsx:\n",
    "        caminho_arquivo = os.path.join(pasta, arq)\n",
    "        df = pd.read_excel(caminho_arquivo, skiprows=skip)\n",
    "        dfs.append(df)\n",
    "    return pd.concat(dfs, ignore_index=True)\n",
    "\n",
    "df_final = ler_arquivos_xlsx(pasta)\n",
    "\n",
    "caminho_saida = r'C:\\Users\\guilh\\OneDrive - UFRGS\\Graduação\\10-Trabalho de Conclusão do Curso\\tcc2\\Pocos\\0serie anual.xlsx'\n",
    "df_final.to_excel(caminho_saida, index=False)\n",
    "\n",
    "print(\"Arquivo PRODUCAO ANUAL.xlsx salvo com sucesso!\")\n"
   ]
  },
  {
   "cell_type": "markdown",
   "metadata": {},
   "source": [
    "## Produção Mensal"
   ]
  },
  {
   "cell_type": "code",
   "execution_count": 10,
   "metadata": {},
   "outputs": [
    {
     "name": "stdout",
     "output_type": "stream",
     "text": [
      "Arquivo PRODUCAO MENSAL.xlsx salvo com sucesso!\n"
     ]
    }
   ],
   "source": [
    "import pandas as pd\n",
    "import os\n",
    "\n",
    "skip = 0\n",
    "pasta = r'C:\\Users\\guilh\\OneDrive - UFRGS\\Graduação\\10-Trabalho de Conclusão do Curso\\tcc2\\Pocos\\mensal\\l8'\n",
    "\n",
    "def ler_arquivos_xlsx(pasta):\n",
    "    arquivos_xlsx = [arq for arq in os.listdir(pasta) if arq.endswith('.xlsx')]\n",
    "    dfs = []\n",
    "    for arq in arquivos_xlsx:\n",
    "        caminho_arquivo = os.path.join(pasta, arq)\n",
    "        df = pd.read_excel(caminho_arquivo, skiprows=skip)\n",
    "        dfs.append(df)\n",
    "    return pd.concat(dfs, ignore_index=True)\n",
    "\n",
    "df_final = ler_arquivos_xlsx(pasta)\n",
    "\n",
    "caminho_saida = r'C:\\Users\\guilh\\OneDrive - UFRGS\\Graduação\\10-Trabalho de Conclusão do Curso\\tcc2\\Pocos\\0serie L8.xlsx'\n",
    "df_final.to_excel(caminho_saida, index=False)\n",
    "\n",
    "print(\"Arquivo PRODUCAO MENSAL.xlsx salvo com sucesso!\")\n"
   ]
  },
  {
   "cell_type": "code",
   "execution_count": 11,
   "metadata": {},
   "outputs": [
    {
     "name": "stdout",
     "output_type": "stream",
     "text": [
      "Arquivo PRODUCAO MENSAL.xlsx salvo com sucesso!\n"
     ]
    }
   ],
   "source": [
    "import pandas as pd\n",
    "import os\n",
    "\n",
    "skip = 0\n",
    "pasta = r'C:\\Users\\guilh\\OneDrive - UFRGS\\Graduação\\10-Trabalho de Conclusão do Curso\\tcc2\\Pocos\\mensal\\l4'\n",
    "\n",
    "def ler_arquivos_xlsx(pasta):\n",
    "    arquivos_xlsx = [arq for arq in os.listdir(pasta) if arq.endswith('.xlsx')]\n",
    "    dfs = []\n",
    "    for arq in arquivos_xlsx:\n",
    "        caminho_arquivo = os.path.join(pasta, arq)\n",
    "        df = pd.read_excel(caminho_arquivo, skiprows=skip)\n",
    "        dfs.append(df)\n",
    "    return pd.concat(dfs, ignore_index=True)\n",
    "\n",
    "df_final = ler_arquivos_xlsx(pasta)\n",
    "\n",
    "caminho_saida = r'C:\\Users\\guilh\\OneDrive - UFRGS\\Graduação\\10-Trabalho de Conclusão do Curso\\tcc2\\Pocos\\0serie L4.xlsx'\n",
    "df_final.to_excel(caminho_saida, index=False)\n",
    "\n",
    "print(\"Arquivo PRODUCAO MENSAL.xlsx salvo com sucesso!\")\n"
   ]
  },
  {
   "cell_type": "code",
   "execution_count": 12,
   "metadata": {},
   "outputs": [
    {
     "name": "stderr",
     "output_type": "stream",
     "text": [
      "C:\\Users\\guilh\\AppData\\Local\\Packages\\PythonSoftwareFoundation.Python.3.11_qbz5n2kfra8p0\\LocalCache\\local-packages\\Python311\\site-packages\\openpyxl\\styles\\stylesheet.py:226: UserWarning: Workbook contains no default style, apply openpyxl's default\n",
      "  warn(\"Workbook contains no default style, apply openpyxl's default\")\n",
      "C:\\Users\\guilh\\AppData\\Local\\Packages\\PythonSoftwareFoundation.Python.3.11_qbz5n2kfra8p0\\LocalCache\\local-packages\\Python311\\site-packages\\openpyxl\\styles\\stylesheet.py:226: UserWarning: Workbook contains no default style, apply openpyxl's default\n",
      "  warn(\"Workbook contains no default style, apply openpyxl's default\")\n",
      "C:\\Users\\guilh\\AppData\\Local\\Packages\\PythonSoftwareFoundation.Python.3.11_qbz5n2kfra8p0\\LocalCache\\local-packages\\Python311\\site-packages\\openpyxl\\styles\\stylesheet.py:226: UserWarning: Workbook contains no default style, apply openpyxl's default\n",
      "  warn(\"Workbook contains no default style, apply openpyxl's default\")\n"
     ]
    },
    {
     "name": "stdout",
     "output_type": "stream",
     "text": [
      "Arquivo PRODUCAO MENSAL.xlsx salvo com sucesso!\n"
     ]
    }
   ],
   "source": [
    "import pandas as pd\n",
    "import os\n",
    "\n",
    "skip = 0\n",
    "pasta = r'C:\\Users\\guilh\\OneDrive - UFRGS\\Graduação\\10-Trabalho de Conclusão do Curso\\tcc2\\Pocos\\mensal\\l2'\n",
    "\n",
    "def ler_arquivos_xlsx(pasta):\n",
    "    arquivos_xlsx = [arq for arq in os.listdir(pasta) if arq.endswith('.xlsx')]\n",
    "    dfs = []\n",
    "    for arq in arquivos_xlsx:\n",
    "        caminho_arquivo = os.path.join(pasta, arq)\n",
    "        df = pd.read_excel(caminho_arquivo, skiprows=skip)\n",
    "        dfs.append(df)\n",
    "    return pd.concat(dfs, ignore_index=True)\n",
    "\n",
    "df_final = ler_arquivos_xlsx(pasta)\n",
    "\n",
    "caminho_saida = r'C:\\Users\\guilh\\OneDrive - UFRGS\\Graduação\\10-Trabalho de Conclusão do Curso\\tcc2\\Pocos\\0serie L2.xlsx'\n",
    "df_final.to_excel(caminho_saida, index=False)\n",
    "\n",
    "print(\"Arquivo PRODUCAO MENSAL.xlsx salvo com sucesso!\")\n"
   ]
  },
  {
   "cell_type": "markdown",
   "metadata": {},
   "source": [
    "# Coordenadas"
   ]
  },
  {
   "cell_type": "code",
   "execution_count": 13,
   "metadata": {},
   "outputs": [],
   "source": [
    "import pandas as pd\n",
    "\n",
    "db_pocos_anp = r'C:\\Users\\guilh\\OneDrive - UFRGS\\Graduação\\10-Trabalho de Conclusão do Curso\\tcc2\\Pocos\\db anp.xlsx'\n",
    "sheet_tabela = 'tabela de pocos'\n",
    "\n",
    "def dms_to_decimal(dms):\n",
    "    graus, minutos, segundos = map(float, dms.replace(',', '.').split(':'))\n",
    "    decimal = graus + (minutos / 60) + (segundos / 3600)\n",
    "    return decimal\n",
    "\n",
    "df = pd.read_excel(db_pocos_anp, sheet_name=sheet_tabela)\n",
    "\n",
    "df['LATITUDE DEC'] = df['LATITUDE_BASE_4C'].apply(dms_to_decimal)\n",
    "df['LONGITUDE DEC'] = df['LONGITUDE_BASE_4C'].apply(dms_to_decimal)\n",
    "\n",
    "df.to_excel(db_pocos_anp, index=False)\n"
   ]
  }
 ],
 "metadata": {
  "kernelspec": {
   "display_name": "Python 3",
   "language": "python",
   "name": "python3"
  },
  "language_info": {
   "codemirror_mode": {
    "name": "ipython",
    "version": 3
   },
   "file_extension": ".py",
   "mimetype": "text/x-python",
   "name": "python",
   "nbconvert_exporter": "python",
   "pygments_lexer": "ipython3",
   "version": "3.11.9"
  }
 },
 "nbformat": 4,
 "nbformat_minor": 2
}
